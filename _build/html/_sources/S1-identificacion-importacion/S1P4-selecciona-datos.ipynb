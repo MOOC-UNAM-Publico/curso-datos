{
 "cells": [
  {
   "cell_type": "markdown",
   "id": "16085854",
   "metadata": {},
   "source": [
    "# Actividad: Seleccionar tu fuente de datos\n",
    "\n",
    "Selecciona una fuente de datos que te sea de interés para analizar y visualizar. Comenta en este foro:\n",
    "\n",
    "- ¿Cuál es tu fuente de datos? (título, origen y enlace)\n",
    "- ¿Quién produjo tu fuente de datos?\n",
    "- ¿Cuál es la fecha de la última actualización de los datos?\n",
    "- ¿En qué formato de archivo se encuentra disponible? (csv, json, Excel)\n",
    "- ¿Por qué consideras que esta fuente de datos te será útil?\n",
    "\n",
    "Realiza tu aporte [en el foro](https://formaciondocente.bunam.unam.mx:8091/moodle/fdocente/mod/forum/view.php?id=641&forceview=1), comenta los aportes de los demás participantes y valóralos con las estrellas :D"
   ]
  }
 ],
 "metadata": {
  "jupytext": {
   "cell_metadata_filter": "-all",
   "formats": "md:myst",
   "text_representation": {
    "extension": ".md",
    "format_name": "myst",
    "format_version": 0.13,
    "jupytext_version": "1.14.0"
   }
  },
  "kernelspec": {
   "display_name": "Python 3 (ipykernel)",
   "language": "python",
   "name": "python3"
  },
  "language_info": {
   "codemirror_mode": {
    "name": "ipython",
    "version": 3
   },
   "file_extension": ".py",
   "mimetype": "text/x-python",
   "name": "python",
   "nbconvert_exporter": "python",
   "pygments_lexer": "ipython3",
   "version": "3.9.7"
  },
  "source_map": [
   14
  ]
 },
 "nbformat": 4,
 "nbformat_minor": 5
}