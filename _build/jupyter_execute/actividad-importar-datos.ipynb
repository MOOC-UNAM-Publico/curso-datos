{
 "cells": [
  {
   "cell_type": "markdown",
   "id": "b3aa300f",
   "metadata": {},
   "source": [
    "# Actividad: importa tu fuente de datos\n",
    "\n",
    "¿Recuerdas la manera como importamos un archivo de texto? De manera muy parecida, importa tu información a tu cuaderno de Google Colab. Para dar orden al cuaderno, crea una celda de texto donde incluyas la información que compartiste en el foro anterior. En la celda de código, agrega las líneas necesarias para poder leer el archivo desde Drive.\n",
    "\n",
    "Comparte en [este foro](https://formaciondocente.bunam.unam.mx:8091/moodle/fdocente/mod/forum/view.php?id=642) un enlace a tu cuaderno público de Google Colab (solo lectura) y aporta a la actividad de tus compañeros."
   ]
  }
 ],
 "metadata": {
  "jupytext": {
   "cell_metadata_filter": "-all",
   "formats": "md:myst",
   "text_representation": {
    "extension": ".md",
    "format_name": "myst",
    "format_version": 0.13,
    "jupytext_version": "1.14.0"
   }
  },
  "kernelspec": {
   "display_name": "Python 3 (ipykernel)",
   "language": "python",
   "name": "python3"
  },
  "language_info": {
   "codemirror_mode": {
    "name": "ipython",
    "version": 3
   },
   "file_extension": ".py",
   "mimetype": "text/x-python",
   "name": "python",
   "nbconvert_exporter": "python",
   "pygments_lexer": "ipython3",
   "version": "3.9.2"
  },
  "source_map": [
   14
  ]
 },
 "nbformat": 4,
 "nbformat_minor": 5
}