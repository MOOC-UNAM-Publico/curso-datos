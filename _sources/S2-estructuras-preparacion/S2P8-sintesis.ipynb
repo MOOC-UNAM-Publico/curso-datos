{
 "cells": [
  {
   "cell_type": "markdown",
   "id": "e311996b",
   "metadata": {},
   "source": [
    "# ¿Qué aprendimos esta semana?\n",
    "\n",
    "En esta semana nos familiarizamos mucho más con nuestro conjunto de datos. Pasamos de una descripción por metadatos a una descripción por tipos de datos y aplicamos la estadística descriptiva para hacer nuestras primeras interpretaciones.\n",
    "\n",
    "## ¿Qué aprendiste de programación en Python esta semana?\n",
    "\n",
    "### Tipos de datos\n",
    "\n",
    "Conociste tres tipos de datos nuevos:\n",
    "\n",
    "- `list`: listas (arrays)\n",
    "- `dict`: diccionarios (objetos con claves y valores)\n",
    "- `tuple`: tuplas (arrays de elementos que no se pueden modificar)\n",
    "\n",
    "### Operaciones\n",
    "\n",
    "Realizar operaciones en Python es bastante sencillo:"
   ]
  },
  {
   "cell_type": "code",
   "execution_count": 1,
   "id": "ed759445",
   "metadata": {},
   "outputs": [
    {
     "name": "stdout",
     "output_type": "stream",
     "text": [
      "3 1 6 1.5 1 8\n"
     ]
    }
   ],
   "source": [
    "suma = 1 + 2\n",
    "resta = 2 - 1\n",
    "multiplicacion = 2 * 3\n",
    "division = 3 / 2\n",
    "modulo = 3 % 2\n",
    "potencia = 2 ** 3\n",
    "\n",
    "print(suma, resta, multiplicacion, division, modulo, potencia)"
   ]
  },
  {
   "cell_type": "markdown",
   "id": "faf814b6",
   "metadata": {},
   "source": [
    "Asimismo, Python incluye algunas funciones que nos permiten realizar operaciones con valores que se encuentran en una lista como la suma:"
   ]
  },
  {
   "cell_type": "code",
   "execution_count": 2,
   "id": "b2ad5700",
   "metadata": {},
   "outputs": [
    {
     "data": {
      "text/plain": [
       "15"
      ]
     },
     "execution_count": 2,
     "metadata": {},
     "output_type": "execute_result"
    }
   ],
   "source": [
    "lista = [1, 2, 3, 4, 5]\n",
    "suma = sum(lista)\n",
    "suma"
   ]
  },
  {
   "cell_type": "markdown",
   "id": "cd0b5438",
   "metadata": {},
   "source": [
    "También es de suma utilidad la función `len` que nos permite obtener el número de elementos de una lista:"
   ]
  },
  {
   "cell_type": "code",
   "execution_count": 3,
   "id": "f18e77fb",
   "metadata": {},
   "outputs": [
    {
     "data": {
      "text/plain": [
       "5"
      ]
     },
     "execution_count": 3,
     "metadata": {},
     "output_type": "execute_result"
    }
   ],
   "source": [
    "lista = [1, 2, 3, 4, 5]\n",
    "longitud = len(lista)\n",
    "longitud"
   ]
  },
  {
   "cell_type": "markdown",
   "id": "1a14e41e",
   "metadata": {},
   "source": [
    "Esta función regresa un valor entero, por lo que podemos combinar estas dos operaciones para obtener el promedio de una lista:"
   ]
  },
  {
   "cell_type": "code",
   "execution_count": 4,
   "id": "b2da4cd3",
   "metadata": {},
   "outputs": [
    {
     "data": {
      "text/plain": [
       "3.0"
      ]
     },
     "execution_count": 4,
     "metadata": {},
     "output_type": "execute_result"
    }
   ],
   "source": [
    "lista = [1, 2, 3, 4, 5]\n",
    "promedio = sum(lista) / len(lista)\n",
    "promedio"
   ]
  }
 ],
 "metadata": {
  "jupytext": {
   "cell_metadata_filter": "-all",
   "formats": "md:myst",
   "text_representation": {
    "extension": ".md",
    "format_name": "myst",
    "format_version": 0.13,
    "jupytext_version": "1.14.1"
   }
  },
  "kernelspec": {
   "display_name": "Python 3 (ipykernel)",
   "language": "python",
   "name": "python3"
  },
  "language_info": {
   "codemirror_mode": {
    "name": "ipython",
    "version": 3
   },
   "file_extension": ".py",
   "mimetype": "text/x-python",
   "name": "python",
   "nbconvert_exporter": "python",
   "pygments_lexer": "ipython3",
   "version": "3.9.7"
  },
  "source_map": [
   14,
   34,
   43,
   47,
   51,
   55,
   59,
   63
  ]
 },
 "nbformat": 4,
 "nbformat_minor": 5
}