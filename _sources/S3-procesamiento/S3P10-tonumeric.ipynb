{
 "cells": [
  {
   "cell_type": "markdown",
   "id": "bc9efd4a",
   "metadata": {},
   "source": [
    "# Asegurar datos numéricos\n",
    "\n",
    "Como vimos en la sección dedicada a [tipos de datos en `pandas`](../S2-estructuras-preparacion/S2P4-dtypes.md), los tipos de datos con los que podremos realizar operaciones son `int64` y `float64`. También vimos que en la mayoría de ocasiones, estos tipos pueden estar expresados en forma de tipo `object`. Incluso, algunos de estos datos están en forma de `string`.\n",
    "\n",
    "```{admonition} Nota\n",
    ":class: note\n",
    "Para este apartado usaré datos de ejemplo porque nuestros conjuntos de datos `muestra_covid` y `geolocalizacion` no necesitan una transformación adicional.\n",
    "\n",
    "Revisa tu conjunto de datos para saber si esta es una operación necesaria o no.\n",
    "```\n",
    "\n",
    "Al igual que en las operaciones anteriores, `pandas` incluye una función que permite convertir los datos a un tipo numérico."
   ]
  },
  {
   "cell_type": "code",
   "execution_count": 1,
   "id": "ee8bf5b2",
   "metadata": {},
   "outputs": [
    {
     "name": "stdout",
     "output_type": "stream",
     "text": [
      "object\n"
     ]
    },
    {
     "data": {
      "text/plain": [
       "0    1\n",
       "1    2\n",
       "2    3\n",
       "3    4\n",
       "4    5\n",
       "dtype: int64"
      ]
     },
     "execution_count": 1,
     "metadata": {},
     "output_type": "execute_result"
    }
   ],
   "source": [
    "import pandas as pd\n",
    "s = pd.Series([\"1\", \"2\", \"3\", \"4\", \"5\"])\n",
    "print(s.dtypes)\n",
    "pd.to_numeric(s)"
   ]
  },
  {
   "cell_type": "markdown",
   "id": "f0ead186",
   "metadata": {},
   "source": [
    "Notarás que cuando llamamos a la función `to_numeric`, los datos se convierten a tipo `int64` y de la misma manera lo puede hacer con cualquier columna que contenga datos numéricos. Sin embargo, no puede hacerlo con todo el dataframe al mismo tiempo, por ejemplo:"
   ]
  },
  {
   "cell_type": "code",
   "execution_count": 2,
   "id": "3c77859f",
   "metadata": {},
   "outputs": [
    {
     "name": "stdout",
     "output_type": "stream",
     "text": [
      "A    object\n",
      "B    object\n",
      "C    object\n",
      "dtype: object\n"
     ]
    },
    {
     "ename": "TypeError",
     "evalue": "arg must be a list, tuple, 1-d array, or Series",
     "output_type": "error",
     "traceback": [
      "\u001b[0;31m---------------------------------------------------------------------------\u001b[0m",
      "\u001b[0;31mTypeError\u001b[0m                                 Traceback (most recent call last)",
      "\u001b[0;32m/var/folders/6z/cjmzygfj49d6yzn_qgny7hgr0000gp/T/ipykernel_97984/1763755439.py\u001b[0m in \u001b[0;36m<module>\u001b[0;34m\u001b[0m\n\u001b[1;32m      1\u001b[0m \u001b[0mdf\u001b[0m \u001b[0;34m=\u001b[0m \u001b[0mpd\u001b[0m\u001b[0;34m.\u001b[0m\u001b[0mDataFrame\u001b[0m\u001b[0;34m(\u001b[0m\u001b[0;34m{\u001b[0m\u001b[0;34m\"A\"\u001b[0m\u001b[0;34m:\u001b[0m \u001b[0;34m[\u001b[0m\u001b[0;34m\"Camila\"\u001b[0m\u001b[0;34m,\u001b[0m \u001b[0;34m\"Sebastián\"\u001b[0m\u001b[0;34m,\u001b[0m \u001b[0;34m\"Santiago\"\u001b[0m\u001b[0;34m,\u001b[0m \u001b[0;34m\"Jimena\"\u001b[0m\u001b[0;34m,\u001b[0m \u001b[0;34m\"Hannah\"\u001b[0m\u001b[0;34m]\u001b[0m\u001b[0;34m,\u001b[0m \u001b[0;34m\"B\"\u001b[0m\u001b[0;34m:\u001b[0m \u001b[0;34m[\u001b[0m\u001b[0;34m\"1.5\"\u001b[0m\u001b[0;34m,\u001b[0m \u001b[0;34m\"1.2\"\u001b[0m\u001b[0;34m,\u001b[0m \u001b[0;34m\"2.3\"\u001b[0m\u001b[0;34m,\u001b[0m \u001b[0;34m\"4.5\"\u001b[0m\u001b[0;34m,\u001b[0m \u001b[0;34m\"5.6\"\u001b[0m\u001b[0;34m]\u001b[0m\u001b[0;34m,\u001b[0m \u001b[0;34m\"C\"\u001b[0m\u001b[0;34m:\u001b[0m \u001b[0;34m[\u001b[0m\u001b[0;34m\"1\"\u001b[0m\u001b[0;34m,\u001b[0m \u001b[0;34m\"2\"\u001b[0m\u001b[0;34m,\u001b[0m \u001b[0;34m\"3\"\u001b[0m\u001b[0;34m,\u001b[0m \u001b[0;34m\"4\"\u001b[0m\u001b[0;34m,\u001b[0m \u001b[0;34m\"5\"\u001b[0m\u001b[0;34m]\u001b[0m\u001b[0;34m}\u001b[0m\u001b[0;34m)\u001b[0m\u001b[0;34m\u001b[0m\u001b[0;34m\u001b[0m\u001b[0m\n\u001b[1;32m      2\u001b[0m \u001b[0mprint\u001b[0m\u001b[0;34m(\u001b[0m\u001b[0mdf\u001b[0m\u001b[0;34m.\u001b[0m\u001b[0mdtypes\u001b[0m\u001b[0;34m)\u001b[0m\u001b[0;34m\u001b[0m\u001b[0;34m\u001b[0m\u001b[0m\n\u001b[0;32m----> 3\u001b[0;31m \u001b[0mpd\u001b[0m\u001b[0;34m.\u001b[0m\u001b[0mto_numeric\u001b[0m\u001b[0;34m(\u001b[0m\u001b[0mdf\u001b[0m\u001b[0;34m)\u001b[0m\u001b[0;34m\u001b[0m\u001b[0;34m\u001b[0m\u001b[0m\n\u001b[0m",
      "\u001b[0;32m~/opt/anaconda3/lib/python3.9/site-packages/pandas/core/tools/numeric.py\u001b[0m in \u001b[0;36mto_numeric\u001b[0;34m(arg, errors, downcast)\u001b[0m\n\u001b[1;32m    161\u001b[0m         \u001b[0mvalues\u001b[0m \u001b[0;34m=\u001b[0m \u001b[0mnp\u001b[0m\u001b[0;34m.\u001b[0m\u001b[0marray\u001b[0m\u001b[0;34m(\u001b[0m\u001b[0;34m[\u001b[0m\u001b[0marg\u001b[0m\u001b[0;34m]\u001b[0m\u001b[0;34m,\u001b[0m \u001b[0mdtype\u001b[0m\u001b[0;34m=\u001b[0m\u001b[0;34m\"O\"\u001b[0m\u001b[0;34m)\u001b[0m\u001b[0;34m\u001b[0m\u001b[0;34m\u001b[0m\u001b[0m\n\u001b[1;32m    162\u001b[0m     \u001b[0;32melif\u001b[0m \u001b[0mgetattr\u001b[0m\u001b[0;34m(\u001b[0m\u001b[0marg\u001b[0m\u001b[0;34m,\u001b[0m \u001b[0;34m\"ndim\"\u001b[0m\u001b[0;34m,\u001b[0m \u001b[0;36m1\u001b[0m\u001b[0;34m)\u001b[0m \u001b[0;34m>\u001b[0m \u001b[0;36m1\u001b[0m\u001b[0;34m:\u001b[0m\u001b[0;34m\u001b[0m\u001b[0;34m\u001b[0m\u001b[0m\n\u001b[0;32m--> 163\u001b[0;31m         \u001b[0;32mraise\u001b[0m \u001b[0mTypeError\u001b[0m\u001b[0;34m(\u001b[0m\u001b[0;34m\"arg must be a list, tuple, 1-d array, or Series\"\u001b[0m\u001b[0;34m)\u001b[0m\u001b[0;34m\u001b[0m\u001b[0;34m\u001b[0m\u001b[0m\n\u001b[0m\u001b[1;32m    164\u001b[0m     \u001b[0;32melse\u001b[0m\u001b[0;34m:\u001b[0m\u001b[0;34m\u001b[0m\u001b[0;34m\u001b[0m\u001b[0m\n\u001b[1;32m    165\u001b[0m         \u001b[0mvalues\u001b[0m \u001b[0;34m=\u001b[0m \u001b[0marg\u001b[0m\u001b[0;34m\u001b[0m\u001b[0;34m\u001b[0m\u001b[0m\n",
      "\u001b[0;31mTypeError\u001b[0m: arg must be a list, tuple, 1-d array, or Series"
     ]
    }
   ],
   "source": [
    "df = pd.DataFrame({\"A\": [\"Camila\", \"Sebastián\", \"Santiago\", \"Jimena\", \"Hannah\"], \"B\": [\"1.5\", \"1.2\", \"2.3\", \"4.5\", \"5.6\"], \"C\": [\"1\", \"2\", \"3\", \"4\", \"5\"]})\n",
    "print(df.dtypes)\n",
    "pd.to_numeric(df)"
   ]
  },
  {
   "cell_type": "markdown",
   "id": "517170e9",
   "metadata": {},
   "source": [
    "Lo anterior nos arroja un `TypeError` porque `pandas` estaba esperando una `Serie`, es decir, el conjunto de datos de una sola columna.\n",
    "\n",
    "Para transformar estos datos podemos utilizar el método tradicional de `for loop` así:"
   ]
  },
  {
   "cell_type": "code",
   "execution_count": 3,
   "id": "68eee9eb",
   "metadata": {},
   "outputs": [
    {
     "data": {
      "text/plain": [
       "A     object\n",
       "B    float64\n",
       "C      int64\n",
       "dtype: object"
      ]
     },
     "execution_count": 3,
     "metadata": {},
     "output_type": "execute_result"
    }
   ],
   "source": [
    "for col in df.columns:\n",
    "  try:\n",
    "    df[col] = pd.to_numeric(df[col])\n",
    "  except ValueError:\n",
    "    pass\n",
    "\n",
    "df.dtypes"
   ]
  },
  {
   "cell_type": "markdown",
   "id": "c24df1c6",
   "metadata": {},
   "source": [
    "El problema con este método es que es un poco lento. De hecho, en un conjunto de datos como `covid_nacional` tomaría muchos minutos y gastaría mucha memoria, tanto que podría simplemente bloquear la computadora.\n",
    "\n",
    "En términos de eficiencia es mejor utilizar el método de `pandas` `apply()`. Veremos un poco más sobre el uso de este método en la sección dedicada a [`apply()`](../S3-procesamiento/S3P14-apply.md), pero por lo pronto veremos un ejemplo de como usarlo."
   ]
  },
  {
   "cell_type": "code",
   "execution_count": 4,
   "id": "1cdf6b36",
   "metadata": {},
   "outputs": [
    {
     "data": {
      "text/plain": [
       "A     object\n",
       "B    float64\n",
       "C      int64\n",
       "dtype: object"
      ]
     },
     "execution_count": 4,
     "metadata": {},
     "output_type": "execute_result"
    }
   ],
   "source": [
    "df = pd.DataFrame({\"A\": [\"Camila\", \"Sebastián\", \"Santiago\", \"Jimena\", \"Hannah\"], \"B\": [\"1.5\", \"1.2\", \"2.3\", \"4.5\", \"5.6\"], \"C\": [\"1\", \"2\", \"3\", \"4\", \"5\"]})\n",
    "cols = df.columns.drop('A') # Eliminamos la columna que sabemos tiene valores de texto\n",
    "df[cols] = df[cols].apply(pd.to_numeric)\n",
    "df.dtypes"
   ]
  },
  {
   "cell_type": "markdown",
   "id": "c921d20a",
   "metadata": {},
   "source": [
    "```{admonition} Observación\n",
    ":class: tip\n",
    "La conversión de datos numéricos, así como la de fechas, que veremos a continuación, es una operación que se realiza sobre una sola columna. Por esa razón es importante que hayas realizado previamente la [identificación de tipos de datos](../S2-estructuras-preparacion/S2P4-dtypes.md).\n",
    "```"
   ]
  }
 ],
 "metadata": {
  "jupytext": {
   "cell_metadata_filter": "-all",
   "formats": "md:myst",
   "text_representation": {
    "extension": ".md",
    "format_name": "myst",
    "format_version": 0.13,
    "jupytext_version": "1.14.0"
   }
  },
  "kernelspec": {
   "display_name": "Python 3 (ipykernel)",
   "language": "python",
   "name": "python3"
  },
  "language_info": {
   "codemirror_mode": {
    "name": "ipython",
    "version": 3
   },
   "file_extension": ".py",
   "mimetype": "text/x-python",
   "name": "python",
   "nbconvert_exporter": "python",
   "pygments_lexer": "ipython3",
   "version": "3.9.7"
  },
  "source_map": [
   14,
   29,
   34,
   38,
   42,
   48,
   56,
   62,
   67
  ]
 },
 "nbformat": 4,
 "nbformat_minor": 5
}