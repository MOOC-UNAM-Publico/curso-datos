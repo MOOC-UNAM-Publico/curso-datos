{
 "cells": [
  {
   "cell_type": "code",
   "execution_count": 2,
   "metadata": {},
   "outputs": [],
   "source": [
    "import pandas as pd\n"
   ]
  },
  {
   "cell_type": "code",
   "execution_count": 12,
   "metadata": {},
   "outputs": [
    {
     "name": "stdout",
     "output_type": "stream",
     "text": [
      "['Argemiro', 'Luisa', 'Pedro']\n"
     ]
    }
   ],
   "source": [
    "valores_cualitativos = ['Pedro', 'Luisa', 'Argemiro']\n",
    "valores_cualitativos.sort()\n",
    "print(valores_cualitativos)"
   ]
  },
  {
   "cell_type": "code",
   "execution_count": 2,
   "metadata": {},
   "outputs": [
    {
     "name": "stdout",
     "output_type": "stream",
     "text": [
      "    Nombre  Edad\n",
      "0    Pedro    26\n",
      "1   Camilo    27\n",
      "2     Juan    24\n",
      "3   Andrea    29\n",
      "4    Sofía    25\n",
      "5  Marcela    26\n",
      "    Nombre  Grado final\n",
      "0    Pedro            9\n",
      "1   Camilo            7\n",
      "2     Juan            8\n",
      "3   Andrea            9\n",
      "4    Sofía           10\n",
      "5  Marcela            9\n"
     ]
    }
   ],
   "source": [
    "ejemplo1 = pd.DataFrame({'Nombre': [\"Pedro\", \"Silvia\", \"Ericka\", \"Camilo\", \"Juan\", \"Jorge\", \"Juliana\", \"Andrea\", \"Sofía\", \"Marcela\"], 'Edad': [26, 27, 24, 29, 25, 26]})\n",
    "ejemplo2 = pd.DataFrame({'Nombre': [\"Pedro\", \"Camilo\", \"Juan\", \"Andrea\", \"Sofía\", \"Marcela\"], 'Grado final': [9, 7, 8, 9, 10, 9]})\n",
    "\n",
    "print(ejemplo1)\n",
    "print(ejemplo2)"
   ]
  },
  {
   "cell_type": "code",
   "execution_count": 3,
   "metadata": {},
   "outputs": [
    {
     "name": "stdout",
     "output_type": "stream",
     "text": [
      "    Nombre  Edad  Grado final\n",
      "0    Pedro    26            9\n",
      "1   Camilo    27            7\n",
      "2     Juan    24            8\n",
      "3   Andrea    29            9\n",
      "4    Sofía    25           10\n",
      "5  Marcela    26            9\n"
     ]
    }
   ],
   "source": [
    "simple_merge = pd.merge(ejemplo1, ejemplo2, on='Nombre')\n",
    "print(simple_merge)"
   ]
  }
 ],
 "metadata": {
  "kernelspec": {
   "display_name": "Python 3.9.2 ('barcode')",
   "language": "python",
   "name": "python3"
  },
  "language_info": {
   "codemirror_mode": {
    "name": "ipython",
    "version": 3
   },
   "file_extension": ".py",
   "mimetype": "text/x-python",
   "name": "python",
   "nbconvert_exporter": "python",
   "pygments_lexer": "ipython3",
   "version": "3.9.2"
  },
  "orig_nbformat": 4,
  "vscode": {
   "interpreter": {
    "hash": "0237a8a4bb809e919ae5be9839a5479ddecbb24c7fa31eac9691c1efcb7aa86e"
   }
  }
 },
 "nbformat": 4,
 "nbformat_minor": 2
}
